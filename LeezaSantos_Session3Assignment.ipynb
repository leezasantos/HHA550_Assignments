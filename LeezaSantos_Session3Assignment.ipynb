{
 "cells": [
  {
   "cell_type": "markdown",
   "metadata": {},
   "source": [
    "Leeza A. Santos\n",
    "\n",
    "HHA 550 Session 3 Assignment\n",
    "\n",
    "* Chapter 9: Exercise 2, 3 and 4\n",
    "* Chapter 10: Exercise 1 and 2 \n",
    "* Chapter 11: Exercise 1 and 2 "
   ]
  },
  {
   "cell_type": "markdown",
   "metadata": {},
   "source": [
    "## Chapter 9 Exercise 2, 3, 4"
   ]
  },
  {
   "cell_type": "markdown",
   "metadata": {},
   "source": [
    "#### Exercise 2: Write a program that categorizes each mail message by which day of the week the commit was done. To do this look for lines that start with “From”, then look for the third word and keep a running count of each of the days of the week. At the end of the program print out the contents of your dictionary (order does not matter).\n",
    "\n",
    "Sample Line:\n",
    "```From stephen.marquard@uct.ac.za Sat Jan 5 09:14:16 2008```\n",
    "\n",
    "Sample Execution:\n",
    "\n",
    "```python dow.py```\n",
    "\n",
    "```Enter a file name: mbox-short.txt```\n",
    "\n",
    "```{'Fri': 20, 'Thu': 6, 'Sat': 1}```"
   ]
  },
  {
   "cell_type": "code",
   "execution_count": 22,
   "metadata": {},
   "outputs": [
    {
     "name": "stdout",
     "output_type": "stream",
     "text": [
      "<_io.TextIOWrapper name='mbox-short.txt' mode='r' encoding='cp1252'>\n"
     ]
    }
   ],
   "source": [
    "fhand = open('mbox-short.txt')                       # Save mbox.txt file from www.py4e.com/code3/mbox-short.txt into Jupyter, see 7.2\n",
    "print(fhand)                                         # Test whether file opens, should have output: <_io.TextIOWrapper name='mbox-short.txt' mode='r' encoding='cp1252'>"
   ]
  },
  {
   "cell_type": "code",
   "execution_count": 1,
   "metadata": {},
   "outputs": [
    {
     "name": "stdout",
     "output_type": "stream",
     "text": [
      "Enter a file name: mbox-short.txt\n",
      "{'Sat': 1, 'Fri': 20, 'Thu': 6}\n"
     ]
    }
   ],
   "source": [
    "d = dict()                                           # Initialize dictionary -- output will not be same order as sample\n",
    "fname = input('Enter a file name: ')\n",
    "try:\n",
    "    fhand = open(fname)\n",
    "except FileNotFoundError:\n",
    "    print('File cannot be opened:', fname)\n",
    "    exit()\n",
    "\n",
    "for line in fhand:\n",
    "    words = line.split()\n",
    "    if len(words) < 3 or words[0] != 'From':\n",
    "        continue\n",
    "    else:\n",
    "        if words[2] not in d:\n",
    "            d[words[2]] = 1                          # First entry\n",
    "        else:\n",
    "            d[words[2]] += 1                         # Additional counts\n",
    "\n",
    "print(d)"
   ]
  },
  {
   "cell_type": "markdown",
   "metadata": {},
   "source": [
    "#### Exercise 3: Write a program to read through a mail log, build a histogram using a dictionary to count how many messages have come from each email address, and print the dictionary.\n",
    "\n",
    "```Enter file name: mbox-short.txt  \n",
    "{'gopal.ramasammycook@gmail.com': 1, 'louis@media.berkeley.edu': 3,  \n",
    "'cwen@iupui.edu': 5, 'antranig@caret.cam.ac.uk': 1,  \n",
    "'rjlowe@iupui.edu': 2, 'gsilver@umich.edu': 3,  \n",
    "'david.horwitz@uct.ac.za': 4, 'wagnermr@iupui.edu': 1,  \n",
    "'zqian@umich.edu': 4, 'stephen.marquard@uct.ac.za': 2,  \n",
    "'ray@media.berkeley.edu': 1}```  "
   ]
  },
  {
   "cell_type": "code",
   "execution_count": 14,
   "metadata": {},
   "outputs": [
    {
     "name": "stdout",
     "output_type": "stream",
     "text": [
      "Enter file name: mbox-short.txt\n",
      "{'stephen.marquard@uct.ac.za': 2, 'louis@media.berkeley.edu': 3, 'zqian@umich.edu': 4, 'rjlowe@iupui.edu': 2, 'cwen@iupui.edu': 5, 'gsilver@umich.edu': 3, 'wagnermr@iupui.edu': 1, 'antranig@caret.cam.ac.uk': 1, 'gopal.ramasammycook@gmail.com': 1, 'david.horwitz@uct.ac.za': 4, 'ray@media.berkeley.edu': 1} <class 'list'>\n",
      "\n",
      "\n",
      "Email addresses in list\n",
      "stephen.marquard@uct.ac.za\n",
      "louis@media.berkeley.edu\n",
      "zqian@umich.edu\n",
      "rjlowe@iupui.edu\n",
      "cwen@iupui.edu\n",
      "gsilver@umich.edu\n",
      "wagnermr@iupui.edu\n",
      "antranig@caret.cam.ac.uk\n",
      "gopal.ramasammycook@gmail.com\n",
      "david.horwitz@uct.ac.za\n",
      "ray@media.berkeley.edu\n"
     ]
    }
   ],
   "source": [
    "d_addresses = dict()                                 # Initializes the dictionary\n",
    "fname = input('Enter file name: ')\n",
    "try:\n",
    "    fhand = open(fname)\n",
    "except FileNotFoundError:\n",
    "    print('File cannot be opened:', fname)\n",
    "    exit()\n",
    "\n",
    "for line in fhand:\n",
    "    words = line.split()\n",
    "    if len(words) < 2 or words[0] != 'From':\n",
    "        continue\n",
    "    else:\n",
    "        if words[1] not in d_addresses:\n",
    "            d_addresses[words[1]] = 1               # First entry\n",
    "        else:\n",
    "            d_addresses[words[1]] += 1              # Additional counts\n",
    "\n",
    "print(d_addresses, list)\n",
    "\n",
    "\n",
    "print(\"\\n\")                                         # \"\\n\" prints in new line \n",
    "print(\"Email addresses in list\")                    # Same thing but print in new line   \n",
    "print(*d_addresses, sep = \"\\n\") "
   ]
  },
  {
   "cell_type": "markdown",
   "metadata": {},
   "source": [
    "#### Exercise 4: Add code to the above program to figure out who has the most messages in the file. After all the data has been read and the dictionary has been created, look through the dictionary using a maximum loop (see Chapter 5: Maximum and minimum loops) to find who has the most messages and print how many messages the person has.\n",
    "\n",
    "```Enter a file name: mbox-short.txt  \n",
    "cwen@iupui.edu 5```  \n",
    "\n",
    "```Enter a file name: mbox.txt  \n",
    "zqian@umich.edu 195```"
   ]
  },
  {
   "cell_type": "code",
   "execution_count": 19,
   "metadata": {},
   "outputs": [
    {
     "name": "stdout",
     "output_type": "stream",
     "text": [
      "<_io.TextIOWrapper name='mbox.txt' mode='r' encoding='cp1252'>\n"
     ]
    }
   ],
   "source": [
    "fhand = open('mbox.txt')                       \n",
    "print(fhand)                                         "
   ]
  },
  {
   "cell_type": "code",
   "execution_count": 21,
   "metadata": {},
   "outputs": [
    {
     "name": "stdout",
     "output_type": "stream",
     "text": [
      "Enter file name: mbox-short.txt\n",
      "cwen@iupui.edu 5\n"
     ]
    }
   ],
   "source": [
    "d_addresses = dict()                                 # Initialize variables\n",
    "maximum = 0\n",
    "max_address = ''\n",
    "\n",
    "fname = input('Enter file name: ')\n",
    "try:\n",
    "    fhand = open(fname)\n",
    "except FileNotFoundError:\n",
    "    print('File cannot be opened:', fname)\n",
    "    quit()\n",
    "\n",
    "for line in fhand:\n",
    "    words = line.split()\n",
    "    if len(words) < 2 or words[0] != 'From':\n",
    "        continue\n",
    "\n",
    "    if words[1] not in d_addresses:\n",
    "        d_addresses[words[1]] = 1                   # First entry\n",
    "    else:\n",
    "        d_addresses[words[1]] += 1                  # Additional counts\n",
    "\n",
    "for address in d_addresses:\n",
    "    if d_addresses[address] > maximum:              # Checks if new maximum\n",
    "        maximum = d_addresses[address]              # Update the maximum if needed\n",
    "        max_address = address                       # Stores the address of maximum\n",
    "\n",
    "print(max_address, maximum)"
   ]
  },
  {
   "cell_type": "markdown",
   "metadata": {},
   "source": [
    "## Chapter 10 Exercise 1, 2"
   ]
  },
  {
   "cell_type": "markdown",
   "metadata": {},
   "source": [
    "#### Exercise 1: Revise a previous program as follows: Read and parse the “From” lines and pull out the addresses from the line. Count the number of messages from each person using a dictionary.\n",
    "\n",
    "After all the data has been read, print the person with the most commits by creating a list of (count, email) tuples from the dictionary. Then sort the list in reverse order and print out the person who has the most commits.\n",
    "\n",
    "Sample Line:\n",
    "\n",
    "```From stephen.marquard@uct.ac.za Sat Jan 5 09:14:16 2008  \n",
    "Enter a file name: mbox-short.txt  \n",
    "cwen@iupui.edu 5```  \n",
    "\n",
    "```Enter a file name: mbox.txt  \n",
    "zqian@umich.edu 195  ```"
   ]
  },
  {
   "cell_type": "code",
   "execution_count": 7,
   "metadata": {},
   "outputs": [
    {
     "name": "stdout",
     "output_type": "stream",
     "text": [
      "Enter file name: mbox-short.txt\n",
      "cwen@iupui.edu 5\n"
     ]
    }
   ],
   "source": [
    "d_addresses = dict()                             # Initialize variables\n",
    "lst = list()\n",
    "\n",
    "fname = input('Enter file name: ')\n",
    "try:\n",
    "    fhand = open(fname)\n",
    "except FileNotFoundError:\n",
    "    print('File cannot be opened:', fname)\n",
    "    quit()\n",
    "\n",
    "for line in fhand:\n",
    "    words = line.split()\n",
    "    if len(words) < 2 or words[0] != 'From':\n",
    "        continue\n",
    "    else:\n",
    "        if words[1] not in d_addresses:\n",
    "            d_addresses[words[1]] = 1             # First entry\n",
    "        else:\n",
    "            d_addresses[words[1]] += 1            # Additional counts\n",
    "\n",
    "for key, val in list(d_addresses.items()):\n",
    "    lst.append((val, key))                        # Fills list with value, key of dict\n",
    "\n",
    "lst.sort(reverse=True)                            # Sorts by highest value\n",
    "\n",
    "for key, val in lst[:1]:                          # Only displays the largest value\n",
    "    print(key, val)"
   ]
  },
  {
   "cell_type": "markdown",
   "metadata": {},
   "source": [
    "#### Exercise 2: This program counts the distribution of the hour of the day for each of the messages. You can pull the hour from the “From” line by finding the time string and then splitting that string into parts using the colon character. Once you have accumulated the counts for each hour, print out the counts, one per line, sorted by hour as shown below. python timeofday.py\n",
    "\n",
    "```Enter a file name: mbox-short.txt  \n",
    "04 3  \n",
    "06 1  \n",
    "07 1  \n",
    "09 2  \n",
    "10 3  \n",
    "11 6  \n",
    "14 1  \n",
    "15 2  \n",
    "16 4  \n",
    "17 2  \n",
    "18 1  \n",
    "19 1```"
   ]
  },
  {
   "cell_type": "code",
   "execution_count": 2,
   "metadata": {},
   "outputs": [
    {
     "name": "stdout",
     "output_type": "stream",
     "text": [
      "Enter file name: mbox-short.txt\n",
      "04 3\n",
      "06 1\n",
      "07 1\n",
      "09 2\n",
      "10 3\n",
      "11 6\n",
      "14 1\n",
      "15 2\n",
      "16 4\n",
      "17 2\n",
      "18 1\n",
      "19 1\n"
     ]
    }
   ],
   "source": [
    "d_hours = dict()                             # Initialize variables\n",
    "lst = list()\n",
    "\n",
    "fname = input('Enter file name: ')\n",
    "try:\n",
    "    fhand = open(fname)\n",
    "except FileNotFoundError:\n",
    "    print('File cannot be opened:', fname)\n",
    "    quit()\n",
    "\n",
    "for line in fhand:\n",
    "    words = line.split()\n",
    "    if len(words) < 2 or words[0] != 'From':\n",
    "        continue\n",
    "\n",
    "    col_pos = words[5].find(':')\n",
    "    hour = words[5][:col_pos]\n",
    "    if hour not in d_hours:\n",
    "        d_hours[hour] = 1                    # First entry\n",
    "    else:\n",
    "        d_hours[hour] += 1                   # Additional counts\n",
    "\n",
    "for key, val in list(d_hours.items()):\n",
    "    lst.append((key, val))                   # Fills list with hour, count of dict\n",
    "\n",
    "lst.sort()                                   # Sorts by hour\n",
    "\n",
    "for key, val in lst:\n",
    "    print(key, val)"
   ]
  },
  {
   "cell_type": "markdown",
   "metadata": {},
   "source": [
    "## Chapter 11 Exercise 1, 2"
   ]
  },
  {
   "cell_type": "markdown",
   "metadata": {},
   "source": [
    "#### Exercise 1: Write a simple program to simulate the operation of the grep command on Unix. Ask the user to enter a regular expression and count the number of lines that matched the regular expression:\n",
    "\n",
    "```python grep.py  \n",
    "Enter a regular expression: ^Author  \n",
    "mbox.txt had 1798 lines that matched ^Author```\n",
    "\n",
    "\n",
    "```python grep.py  \n",
    "Enter a regular expression: ^X-  \n",
    "mbox.txt had 14368 lines that matched ^X-```\n",
    "\n",
    "\n",
    "```python grep.py\n",
    "Enter a regular expression: java$\n",
    "mbox.txt had 4175 lines that matched java$```"
   ]
  },
  {
   "cell_type": "code",
   "execution_count": 33,
   "metadata": {},
   "outputs": [
    {
     "name": "stdout",
     "output_type": "stream",
     "text": [
      "Enter a regular expression: java$\n",
      "mbox.txt had 4218 lines that matched java$\n"
     ]
    }
   ],
   "source": [
    "import re\n",
    "\n",
    "count = 0                                            # Initialize variables\n",
    "\n",
    "input_exp = input('Enter a regular expression: ')\n",
    "reg_exp = str(input_exp)                             # Regular Expressions are strings\n",
    "fname = 'mbox.txt'\n",
    "fhand = open(fname)\n",
    "\n",
    "for line in fhand:\n",
    "    line = line.rstrip()\n",
    "\n",
    "    # Only counts if something was found\n",
    "    if re.findall(reg_exp, line) != []:             \n",
    "        count += 1\n",
    "\n",
    "print(fname + ' had ' + str(count) + ' lines that matched ' + reg_exp)\n",
    "\n",
    "# java$ does not produce right output"
   ]
  },
  {
   "cell_type": "markdown",
   "metadata": {},
   "source": [
    "#### Exercise 2: Write a program to look for lines of the form:\n",
    "\n",
    "New Revision: 39772  \n",
    "\n",
    "#### Extract the number from each of the lines using a regular expression and the findall() method. Compute the average of the numbers and print out the average as an integer.  \n",
    "\n",
    "```Enter file: mbox.txt: 38549```  \n",
    "\n",
    "\n",
    "```Enter file: mbox-short.txt: 38549```  "
   ]
  },
  {
   "cell_type": "code",
   "execution_count": 4,
   "metadata": {},
   "outputs": [
    {
     "name": "stdout",
     "output_type": "stream",
     "text": [
      "Enter file: mbox.txt\n",
      "mbox.txt : 38549\n"
     ]
    }
   ],
   "source": [
    "import re\n",
    "\n",
    "rev = []\n",
    "\n",
    "fname = input('Enter file: ')\n",
    "try:\n",
    "    fhand = open(fname)\n",
    "except FileNotFoundError:\n",
    "    print('File cannot be opened: ', fname)\n",
    "    exit()\n",
    "\n",
    "for line in fhand:\n",
    "    line = line.rstrip()\n",
    "    rev_temp = re.findall('^New Revision: ([0.0-9.0]+)', line)\n",
    "    for x in rev_temp:\n",
    "        rev.append(float(x))\n",
    "\n",
    "\n",
    "rev_sum = sum(rev)\n",
    "count = float(len(rev))\n",
    "rev_ave = int(rev_sum / count)\n",
    "print(fname, ':', rev_ave)"
   ]
  }
 ],
 "metadata": {
  "kernelspec": {
   "display_name": "Python 3",
   "language": "python",
   "name": "python3"
  },
  "language_info": {
   "codemirror_mode": {
    "name": "ipython",
    "version": 3
   },
   "file_extension": ".py",
   "mimetype": "text/x-python",
   "name": "python",
   "nbconvert_exporter": "python",
   "pygments_lexer": "ipython3",
   "version": "3.8.3"
  }
 },
 "nbformat": 4,
 "nbformat_minor": 4
}
