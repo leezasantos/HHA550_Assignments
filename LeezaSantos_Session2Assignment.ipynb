{
 "cells": [
  {
   "cell_type": "markdown",
   "metadata": {},
   "source": [
    "Leeza A. Santos\n",
    "\n",
    "HHA 550 Session 2 Assignment\n",
    "\n",
    "* Chapter 1: Exercise 1-7\n",
    "* Chapter 2: Exercise 2, 3, 4\n",
    "* Chapter 5: Exercise 1"
   ]
  },
  {
   "cell_type": "markdown",
   "metadata": {},
   "source": [
    "## Chapter 1 Exercises 1-7"
   ]
  },
  {
   "cell_type": "markdown",
   "metadata": {},
   "source": [
    "#### Exercise 1: What is the function of the secondary memory in a computer?\n",
    "\n",
    "    a) Execute all of the computation and logic of the program\n",
    "    b) Retrieve web pages over the Internet\n",
    "    c) Store information for the long term, even beyond a power cycle\n",
    "    d) Take input from the user\n",
    "\n",
    "\n",
    "##### c) Store information for the long term, even beyond a power cycle"
   ]
  },
  {
   "cell_type": "markdown",
   "metadata": {},
   "source": [
    "#### Exercise 2: What is a program?\n",
    "\n",
    "A computer program is a sequence of instructions that are written for a computer to carry out. Programming is the process of writing, editing, modifying, and debugging a computer program."
   ]
  },
  {
   "cell_type": "markdown",
   "metadata": {},
   "source": [
    "#### Exercise 3: What is the difference between a compiler and an interpreter?\n",
    "\n",
    "Compiler is a program system that is used as a tool in programming. The software code that performs the translation process made by the programmer into machine language. while the interpreter is a software that can execute the source code that was written by the programmer and translated into machine language."
   ]
  },
  {
   "cell_type": "markdown",
   "metadata": {},
   "source": [
    "#### Exercise 4: Which of the following contains “machine code”?\n",
    "\n",
    "    a) The Python interpreter\n",
    "    b) The keyboard\n",
    "    c) Python source file\n",
    "    d) A word processing document\n",
    "\n",
    "##### c) Python source file"
   ]
  },
  {
   "cell_type": "markdown",
   "metadata": {},
   "source": [
    "##### Exercise 5: What is wrong with the following code:\n",
    ">>> primt 'Hello world!'\n",
    "File \"<stdin>\", line 1\n",
    "primt 'Hello world!'\n",
    "^\n",
    "SyntaxError: invalid syntax\n",
    ">>>\n",
    "\n",
    "##### Incorrect spelling for print\n"
   ]
  },
  {
   "cell_type": "code",
   "execution_count": 3,
   "metadata": {},
   "outputs": [
    {
     "name": "stdout",
     "output_type": "stream",
     "text": [
      "Hello world!\n"
     ]
    }
   ],
   "source": [
    "print('Hello world!')"
   ]
  },
  {
   "cell_type": "markdown",
   "metadata": {},
   "source": [
    "#### Exercise 6: Where in the computer is a variable such as “x” stored after the following Python line finishes?\n",
    "\n",
    "         x = 123\n",
    "\n",
    "    a) Central processing unit\n",
    "    b) Main Memory\n",
    "    c) Secondary Memory\n",
    "    d) Input Devices\n",
    "    e) Output Devices\n",
    "\n",
    "##### b) Main Memory"
   ]
  },
  {
   "cell_type": "markdown",
   "metadata": {},
   "source": [
    "##### Exercise 7: What will the following program print out:\n",
    "\n",
    "x = 43\n",
    "x = x + 1\n",
    "print(x)\n",
    "\n",
    "a) 43\n",
    "b) 44\n",
    "c) x + 1\n",
    "d) Error because x = x + 1 is not possible mathematically\n",
    "\n",
    "##### b) 44"
   ]
  },
  {
   "cell_type": "markdown",
   "metadata": {},
   "source": [
    "## Chapter 2 Exercises 2, 3, 4"
   ]
  },
  {
   "cell_type": "markdown",
   "metadata": {},
   "source": [
    "#### Exercise 2: Write a program that uses input to prompt a user for their name and then welcomes them.\n",
    "\n",
    "Enter your name: Chuck\n",
    "\n",
    "Hello Chuck"
   ]
  },
  {
   "cell_type": "code",
   "execution_count": 4,
   "metadata": {},
   "outputs": [
    {
     "name": "stdout",
     "output_type": "stream",
     "text": [
      "Enter your name: Chuck\n",
      "Hello Chuck\n"
     ]
    }
   ],
   "source": [
    "print('Hello',input('Enter your name: '))"
   ]
  },
  {
   "cell_type": "markdown",
   "metadata": {},
   "source": [
    "#### Exercise 3: Write a program to prompt the user for hours and rate per hour to compute gross pay.\n",
    "\n",
    "Enter Hours: 35\n",
    "Enter Rate: 2.75\n",
    "Pay: 96.25\n",
    "\n",
    "We won’t worry about making sure our pay has exactly two digits after the decimal place for now. If you want, you can play with the built-in Python round function to properly round the resulting pay to two decimal places.\n"
   ]
  },
  {
   "cell_type": "code",
   "execution_count": 5,
   "metadata": {},
   "outputs": [
    {
     "name": "stdout",
     "output_type": "stream",
     "text": [
      "Enter Hours: 35\n",
      "Enter Rate2.75\n",
      "Pay: 96.25\n"
     ]
    }
   ],
   "source": [
    "print('Pay:',(float(input('Enter Hours: '))*float(input('Enter Rate'))))"
   ]
  },
  {
   "cell_type": "markdown",
   "metadata": {},
   "source": [
    "#### Exercise 4: Assume that we execute the following assignment statements:\n",
    "\n",
    "width = 17\n",
    "height = 12.0\n",
    "\n",
    "For each of the following expressions, write the value of the expression and the\n",
    "type (of the value of the expression).\n",
    "\n",
    "1. width/2\n",
    "2. width/2.0\n",
    "3. height/3\n",
    "4. 1 + 2 * 5\n",
    "\n",
    "Use the Python interpreter to check your answers."
   ]
  },
  {
   "cell_type": "code",
   "execution_count": 6,
   "metadata": {},
   "outputs": [],
   "source": [
    "width = 17 \n",
    "height = 12.0"
   ]
  },
  {
   "cell_type": "code",
   "execution_count": 7,
   "metadata": {},
   "outputs": [
    {
     "name": "stdout",
     "output_type": "stream",
     "text": [
      "8.5 <class 'float'>\n",
      "8.5 <class 'float'>\n",
      "4.0 <class 'float'>\n",
      "11 <class 'int'>\n"
     ]
    }
   ],
   "source": [
    "w = (width/2) \n",
    "d = (width/2.0)\n",
    "h = height/3\n",
    "x = 1 + 2 * 5\n",
    "\n",
    "print(w, type(w))\n",
    "print(d, type(d))\n",
    "print(h, type(h))\n",
    "print(x, type(x))"
   ]
  },
  {
   "cell_type": "markdown",
   "metadata": {},
   "source": [
    "## Chapter 2 Exercises 2, 3, 4"
   ]
  },
  {
   "cell_type": "markdown",
   "metadata": {},
   "source": [
    "#### Exercise 1: Write a program which repeatedly reads numbers until the user enters “done”. Once “done” is entered, print out the total, count, and average of the numbers. If the user enters anything other than a number, detect their mistake using try and except and print an error message and skip to the next number.\n",
    "\n",
    "Enter a number: 4\n",
    "\n",
    "Enter a number: 5\n",
    "\n",
    "Enter a number: bad data\n",
    "\n",
    "Invalid input\n",
    "\n",
    "Enter a number: 7\n",
    "\n",
    "Enter a number: done\n"
   ]
  },
  {
   "cell_type": "code",
   "execution_count": 8,
   "metadata": {},
   "outputs": [
    {
     "name": "stdout",
     "output_type": "stream",
     "text": [
      "Enter a number: 4\n",
      "Enter a number: 5\n",
      "Enter a number: bad data\n",
      "Invalid input\n",
      "Enter a number: 7\n",
      "Enter a number: done\n",
      "16.0 3 5.333333333333333\n"
     ]
    }
   ],
   "source": [
    "sum = 0\n",
    "count = 0\n",
    "average = 0\n",
    "\n",
    "while True:\n",
    "  try:\n",
    "    x = input(\"Enter a number: \")\n",
    "    if (x == \"done\"): \n",
    "     break\n",
    "    value = float(x)\n",
    "    sum = value + sum\n",
    "    count = count + 1\n",
    "    average = sum / count\n",
    "  except:\n",
    "    print(\"Invalid input\")\n",
    "print (sum, count, average)"
   ]
  }
 ],
 "metadata": {
  "kernelspec": {
   "display_name": "Python 3",
   "language": "python",
   "name": "python3"
  },
  "language_info": {
   "codemirror_mode": {
    "name": "ipython",
    "version": 3
   },
   "file_extension": ".py",
   "mimetype": "text/x-python",
   "name": "python",
   "nbconvert_exporter": "python",
   "pygments_lexer": "ipython3",
   "version": "3.8.3"
  }
 },
 "nbformat": 4,
 "nbformat_minor": 4
}
